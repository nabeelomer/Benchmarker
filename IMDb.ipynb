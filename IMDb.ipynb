{
  "nbformat": 4,
  "nbformat_minor": 0,
  "metadata": {
    "kernelspec": {
      "display_name": "Python 3",
      "language": "python",
      "name": "python3"
    },
    "language_info": {
      "codemirror_mode": {
        "name": "ipython",
        "version": 3
      },
      "file_extension": ".py",
      "mimetype": "text/x-python",
      "name": "python",
      "nbconvert_exporter": "python",
      "pygments_lexer": "ipython3",
      "version": "3.7.5"
    },
    "colab": {
      "name": "Hateval.ipynb",
      "provenance": [],
      "collapsed_sections": []
    }
  },
  "cells": [
    {
      "cell_type": "markdown",
      "metadata": {
        "id": "9L4fCMzdvLnj",
        "colab_type": "text"
      },
      "source": [
        "Import all the required libraries and download the wordnet and stopwords."
      ]
    },
    {
      "cell_type": "code",
      "metadata": {
        "id": "kDXuW2GAvV0Z",
        "colab_type": "code",
        "outputId": "5a1fc544-312b-4cf2-b53e-c09217d5d03b",
        "colab": {
          "base_uri": "https://localhost:8080/",
          "height": 102
        }
      },
      "source": [
        "from sklearn.ensemble import RandomForestClassifier\n",
        "import re\n",
        "from nltk.corpus import stopwords as stop\n",
        "from nltk.stem import WordNetLemmatizer\n",
        "import nltk\n",
        "from sklearn.metrics import accuracy_score, f1_score, precision_score, recall_score\n",
        "\n",
        "nltk.download('wordnet')\n",
        "nltk.download('stopwords')"
      ],
      "execution_count": 282,
      "outputs": [
        {
          "output_type": "stream",
          "text": [
            "[nltk_data] Downloading package wordnet to /root/nltk_data...\n",
            "[nltk_data]   Package wordnet is already up-to-date!\n",
            "[nltk_data] Downloading package stopwords to /root/nltk_data...\n",
            "[nltk_data]   Package stopwords is already up-to-date!\n"
          ],
          "name": "stdout"
        },
        {
          "output_type": "execute_result",
          "data": {
            "text/plain": [
              "True"
            ]
          },
          "metadata": {
            "tags": []
          },
          "execution_count": 282
        }
      ]
    },
    {
      "cell_type": "markdown",
      "metadata": {
        "id": "01FU1-qgvZFl",
        "colab_type": "text"
      },
      "source": [
        "Read the reviews from the files."
      ]
    },
    {
      "cell_type": "code",
      "metadata": {
        "id": "OSYsIiD5vbe8",
        "colab_type": "code",
        "outputId": "ebc6cbab-a1b7-4152-f440-df2cb65686c8",
        "colab": {
          "base_uri": "https://localhost:8080/",
          "height": 88
        }
      },
      "source": [
        "trainNeg = open(\"imdb_train_neg.txt\", \"r\").readlines()\n",
        "trainPos = open(\"imdb_train_pos.txt\", \"r\").readlines()\n",
        "\n",
        "testPos = open(\"imdb_test_pos.txt\", \"r\").readlines()\n",
        "testNeg = open(\"imdb_test_neg.txt\", \"r\").readlines()\n",
        "\n",
        "devPos = open(\"imdb_dev_pos.txt\", \"r\").readlines()\n",
        "devNeg = open(\"imdb_dev_neg.txt\", \"r\").readlines()\n",
        "\n",
        "print(len(trainNeg))\n",
        "print(len(testNeg))\n",
        "testPos[:1]"
      ],
      "execution_count": 283,
      "outputs": [
        {
          "output_type": "stream",
          "text": [
            "7517\n",
            "2501\n"
          ],
          "name": "stdout"
        },
        {
          "output_type": "execute_result",
          "data": {
            "text/plain": [
              "['This is the greatest movie if you want inspiration on following your heart and never giving up on your dream. Elizabeth Taylor is Velvet and in her prime (of her childhood, at least), Mickey Rooney is a cynical friend who eventually becomes her trainer and they go off to the Grand National steeplechase with her beloved horse \"the Pi\"--short for \"Pirate\"--only to have Velvet become the jockey and have a chance at victory. To those of you who have not seen it yet, I won\\'t give away the ending but you should see it and once you do you\\'ll love it. Notice a very young Angela Lansbury as Velvet\\'s eldest sister.\\n']"
            ]
          },
          "metadata": {
            "tags": []
          },
          "execution_count": 283
        }
      ]
    },
    {
      "cell_type": "markdown",
      "metadata": {
        "id": "-d9oBVKIvwPq",
        "colab_type": "text"
      },
      "source": [
        "Remove all the special characters from the dataset."
      ]
    },
    {
      "cell_type": "code",
      "metadata": {
        "id": "Bgpd-lUzviGi",
        "colab_type": "code",
        "outputId": "84d50395-8a8f-4331-f579-980b44f6e52f",
        "colab": {
          "base_uri": "https://localhost:8080/",
          "height": 54
        }
      },
      "source": [
        "def cleanSpecialCharacters(dataset):\n",
        "    specialchars = re.compile(\"[.;:!\\'?,\\\"()\\[\\]]\")\n",
        "    html = re.compile(\"(<.*?>)|(\\-)|(\\/)\")\n",
        "\n",
        "    dataset = [specialchars.sub(\"\", line) for line in dataset]\n",
        "    dataset = [html.sub(\" \", line) for line in dataset]\n",
        "    \n",
        "    return dataset\n",
        "\n",
        "trainNeg = cleanSpecialCharacters(trainNeg)\n",
        "trainPos = cleanSpecialCharacters(trainPos)\n",
        "\n",
        "testNeg = cleanSpecialCharacters(testNeg)\n",
        "testPos = cleanSpecialCharacters(testPos)\n",
        "\n",
        "devPos = cleanSpecialCharacters(devPos)\n",
        "devNeg = cleanSpecialCharacters(devNeg)\n",
        "\n",
        "trainPos[:1]"
      ],
      "execution_count": 284,
      "outputs": [
        {
          "output_type": "execute_result",
          "data": {
            "text/plain": [
              "['For fans of Chris Farley this is probably his best film David Spade plays the perfect cynical sarcastic yin to Farleys Baby Huey yang Farley achieves strokes of comic genius in his monologues like the Lets say youre driving along the road with your family bit the Jo Jo the Idiot Circus Boy with a pretty new pet his possible sale speech or the Glue sniffing Guarantee fairy brake pad sale The sappy moments in the film contrast sharply with Farley and Spades shenanigans Even after many viewings its still fun to see Farley pour everything he had into the role Richard whats HAPPENING to me\\n']"
            ]
          },
          "metadata": {
            "tags": []
          },
          "execution_count": 284
        }
      ]
    },
    {
      "cell_type": "markdown",
      "metadata": {
        "id": "nS0BfQoTv0YK",
        "colab_type": "text"
      },
      "source": [
        "Lemmatize the dataset."
      ]
    },
    {
      "cell_type": "code",
      "metadata": {
        "id": "Cqrb9Xg1vlIY",
        "colab_type": "code",
        "outputId": "641f7386-0be9-4707-a2d7-84bddc35bcc8",
        "colab": {
          "base_uri": "https://localhost:8080/",
          "height": 54
        }
      },
      "source": [
        "def lemmatize(dataset):\n",
        "    lemmatizer = WordNetLemmatizer()\n",
        "    return [' '.join([lemmatizer.lemmatize(word) for word in lines.split()]) for lines in dataset]\n",
        "\n",
        "trainNeg = lemmatize(trainNeg)\n",
        "trainPos = lemmatize(trainPos)\n",
        "\n",
        "testNeg = lemmatize(testNeg)\n",
        "testPos = lemmatize(testPos)\n",
        "\n",
        "devPos = lemmatize(devPos)\n",
        "devNeg = lemmatize(devNeg)\n",
        "\n",
        "trainPos[:1]"
      ],
      "execution_count": 285,
      "outputs": [
        {
          "output_type": "execute_result",
          "data": {
            "text/plain": [
              "['For fan of Chris Farley this is probably his best film David Spade play the perfect cynical sarcastic yin to Farleys Baby Huey yang Farley achieves stroke of comic genius in his monologue like the Lets say youre driving along the road with your family bit the Jo Jo the Idiot Circus Boy with a pretty new pet his possible sale speech or the Glue sniffing Guarantee fairy brake pad sale The sappy moment in the film contrast sharply with Farley and Spades shenanigan Even after many viewing it still fun to see Farley pour everything he had into the role Richard whats HAPPENING to me']"
            ]
          },
          "metadata": {
            "tags": []
          },
          "execution_count": 285
        }
      ]
    },
    {
      "cell_type": "markdown",
      "metadata": {
        "id": "ymvpF7OXv66Y",
        "colab_type": "text"
      },
      "source": [
        "Create the TF-IDF Vectorizer to pick the features."
      ]
    },
    {
      "cell_type": "code",
      "metadata": {
        "id": "IKrDm5PUvl3u",
        "colab_type": "code",
        "colab": {}
      },
      "source": [
        "vectorizer = TfidfVectorizer(binary=True, max_features=5000, ngram_range=(1, 3), stop_words=stop.words('english'))"
      ],
      "execution_count": 0,
      "outputs": []
    },
    {
      "cell_type": "markdown",
      "metadata": {
        "id": "gquSL_OGwDoc",
        "colab_type": "text"
      },
      "source": [
        "Combine the negative and positive reviews.\n",
        "\n",
        "Create the `trainY` and `testY` lists containing the list of known reviews."
      ]
    },
    {
      "cell_type": "code",
      "metadata": {
        "id": "Ik08Jlq8wTGk",
        "colab_type": "code",
        "colab": {}
      },
      "source": [
        "train = trainNeg + trainPos\n",
        "test = testNeg + testPos\n",
        "\n",
        "trainY = [1 if i < 7517 else 0 for i in range(15000)]\n",
        "testY = [1 if i < 2501 else 0 for i in range(5000)]"
      ],
      "execution_count": 0,
      "outputs": []
    },
    {
      "cell_type": "markdown",
      "metadata": {
        "id": "FTwhTdEnwb8n",
        "colab_type": "text"
      },
      "source": [
        "Train the vectorizer.\n",
        "\n",
        "Transform the databases."
      ]
    },
    {
      "cell_type": "code",
      "metadata": {
        "id": "BsrEXnnMxleU",
        "colab_type": "code",
        "outputId": "1e60dea9-feca-4071-9414-df65cceba4a1",
        "colab": {
          "base_uri": "https://localhost:8080/",
          "height": 51
        }
      },
      "source": [
        "vectorizer.fit(train)\n",
        "print(len(vectorizer.get_feature_names()))\n",
        "\n",
        "train = vectorizer.transform(train)\n",
        "test = vectorizer.transform(test)\n",
        "\n",
        "train.shape"
      ],
      "execution_count": 288,
      "outputs": [
        {
          "output_type": "stream",
          "text": [
            "5000\n"
          ],
          "name": "stdout"
        },
        {
          "output_type": "execute_result",
          "data": {
            "text/plain": [
              "(15000, 5000)"
            ]
          },
          "metadata": {
            "tags": []
          },
          "execution_count": 288
        }
      ]
    },
    {
      "cell_type": "markdown",
      "metadata": {
        "id": "m2nSTl7Jwj26",
        "colab_type": "text"
      },
      "source": [
        "Create a Random Forest Classifier and use it for the model.\n",
        "\n",
        "Train the classifier with the dataset."
      ]
    },
    {
      "cell_type": "code",
      "metadata": {
        "id": "0YMl7nNKvm1M",
        "colab_type": "code",
        "colab": {}
      },
      "source": [
        "classifier = RandomForestClassifier()\n",
        "classifier.fit(train, trainY)\n",
        "\n",
        "prediction = classifier.predict(test)"
      ],
      "execution_count": 0,
      "outputs": []
    },
    {
      "cell_type": "markdown",
      "metadata": {
        "id": "51Z9wrF5wxQk",
        "colab_type": "text"
      },
      "source": [
        "Print the accuracy."
      ]
    },
    {
      "cell_type": "code",
      "metadata": {
        "id": "-1KJtUg_xNHI",
        "colab_type": "code",
        "outputId": "4e1a1d86-9e10-4a23-d536-dbceb75906ce",
        "colab": {
          "base_uri": "https://localhost:8080/",
          "height": 85
        }
      },
      "source": [
        "print('Accuracy = ',round(accuracy_score(testY, prediction),2))\n",
        "print('F1 score = ', round(f1_score(testY, prediction),2))\n",
        "print('Recall = ', round(recall_score(testY, prediction),2))\n",
        "print('Precision = ', round(precision_score(testY, prediction),2))"
      ],
      "execution_count": 290,
      "outputs": [
        {
          "output_type": "stream",
          "text": [
            "Accuracy =  0.84\n",
            "F1 score =  0.84\n",
            "Recall =  0.83\n",
            "Precision =  0.84\n"
          ],
          "name": "stdout"
        }
      ]
    }
  ]
}